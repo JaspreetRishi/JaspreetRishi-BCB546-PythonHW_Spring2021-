{
 "cells": [
  {
   "cell_type": "markdown",
   "id": "fiscal-advantage",
   "metadata": {},
   "source": [
    "# BCB546X Python Assignment - JR"
   ]
  },
  {
   "cell_type": "markdown",
   "id": "atlantic-cream",
   "metadata": {},
   "source": [
    "## This notebook contains the description and codes used for the Python assignment"
   ]
  },
  {
   "cell_type": "markdown",
   "id": "stuck-south",
   "metadata": {},
   "source": [
    "### Following are the packages used "
   ]
  },
  {
   "cell_type": "markdown",
   "id": "american-jenny",
   "metadata": {},
   "source": [
    "##### 1. Finishing documenting the given function with comments"
   ]
  },
  {
   "cell_type": "code",
   "execution_count": 151,
   "id": "subtle-kruger",
   "metadata": {},
   "outputs": [],
   "source": [
    "from Bio import SeqIO\n",
    "from Bio.Data import CodonTable\n",
    "import pandas as pd\n",
    "import numpy as np"
   ]
  },
  {
   "cell_type": "code",
   "execution_count": 152,
   "id": "representative-little",
   "metadata": {},
   "outputs": [],
   "source": [
    "def get_sequences_from_file(fasta_fn): # defining the function \n",
    "    sequence_data_dict = {} # creating an empty dictionary\n",
    "    for record in SeqIO.parse(fasta_fn, \"fasta\"): # parsing all the fasta files using Seq10 to read FASTA file and store in a SeqRecord \n",
    "        description = record.description.split() # splitting each word in the description\n",
    "        species_name = description[1] + \" \" + description[2] # assigning the second and third columns of the data file as species name\n",
    "        sequence_data_dict[species_name] = record.seq #adding the species name and sequence to the dictionary\n",
    "    return(sequence_data_dict) #return the dictionary as the result of the functio"
   ]
  },
  {
   "cell_type": "markdown",
   "id": "advised-pierre",
   "metadata": {},
   "source": [
    "##### 2. Translating a string of nucleotides to amino acids"
   ]
  },
  {
   "cell_type": "code",
   "execution_count": 153,
   "id": "agricultural-experiment",
   "metadata": {},
   "outputs": [],
   "source": [
    "def translate_CDS_function(X):\n",
    "    mito_table = CodonTable.unambiguous_dna_by_name[\"Vertebrate Mitochondrial\"] # import the genetic code for Vertebrate Mitochondria\n",
    "    AA_seq = '' # creating an empty variable for aa sequence\n",
    "    for i in range(0, len(X), 3): # pooling every 3 nucleotides throughout the entire lenght of the nucleotide seuqnce starting at the first position i.e.0   \n",
    "        codon = X[i : i+3] # extracting the codons which is every 3 nucleotide sequence\n",
    "        if codon not in mito_table.stop_codons and len(codon) == 3: # AA added for each codon with nucleotide without a stop codon \n",
    "            AA_seq += mito_table.forward_table[codon]\n",
    "            \n",
    "    return(AA_seq) \n"
   ]
  },
  {
   "cell_type": "code",
   "execution_count": 154,
   "id": "national-stability",
   "metadata": {},
   "outputs": [],
   "source": [
    "test_CDS = \"ATGCTATCGCTAGCTAGCTAGCTAG\" # a small random CDS as a test sequence\n",
    "test_DNA_sequence = \"ATGACCAACATCCGAAAAACCCATCCATTAGCTAAAATCATCAACAACTCATTT\" # a small part of DNA sequence from the sequence file as a test sequence "
   ]
  },
  {
   "cell_type": "code",
   "execution_count": 155,
   "id": "exciting-newark",
   "metadata": {},
   "outputs": [
    {
     "data": {
      "text/plain": [
       "'MLSLASL'"
      ]
     },
     "execution_count": 155,
     "metadata": {},
     "output_type": "execute_result"
    }
   ],
   "source": [
    "translate_CDS_function(test_CDS)"
   ]
  },
  {
   "cell_type": "code",
   "execution_count": 156,
   "id": "foreign-trustee",
   "metadata": {},
   "outputs": [
    {
     "data": {
      "text/plain": [
       "'MTNIRKTHPLAKIINNSF'"
      ]
     },
     "execution_count": 156,
     "metadata": {},
     "output_type": "execute_result"
    }
   ],
   "source": [
    "translate_CDS_function(test_DNA_sequence)"
   ]
  },
  {
   "cell_type": "markdown",
   "id": "exotic-browse",
   "metadata": {},
   "source": [
    "##### 3. Alternative translation function using Biopython"
   ]
  },
  {
   "cell_type": "code",
   "execution_count": 157,
   "id": "aboriginal-potato",
   "metadata": {},
   "outputs": [
    {
     "data": {
      "text/plain": [
       "'MTNIRKTHPLAKIINNSF'"
      ]
     },
     "execution_count": 157,
     "metadata": {},
     "output_type": "execute_result"
    }
   ],
   "source": [
    "def Alt_translate(X):\n",
    "    from Bio.Seq import Seq # adding seq from Bio.Seq package\n",
    "    seq = Seq(X) # Saving the given sequence as a Seq object\n",
    "    AA_seq = seq.translate(table=2, to_stop=True) # Alternatively translating the sequence using the vertebrate mitochondrial code (genetic code 2)and stopping whenever there is a stop codon \n",
    "    return(str(AA_seq))\n",
    "    \n",
    "Alt_translate(test_DNA)"
   ]
  },
  {
   "cell_type": "markdown",
   "id": "continental-plymouth",
   "metadata": {},
   "source": [
    "##### 4. Calculating the molecular weight of each amino acid sequence\n"
   ]
  },
  {
   "cell_type": "code",
   "execution_count": 158,
   "id": "alternative-intro",
   "metadata": {},
   "outputs": [],
   "source": [
    "from Bio.SeqUtils.ProtParam import ProteinAnalysis\n",
    "\n",
    "def compute_molecular_weight(AA_seq):\n",
    "    Analyzed_seq = ProteinAnalysis(AA_seq) # analyzing the aa sequence\n",
    "    molecular_weight = Analyzed_seq.molecular_weight() # calculating the molecular weigth \n",
    "    return(molecular_weight) "
   ]
  },
  {
   "cell_type": "code",
   "execution_count": 159,
   "id": "selected-annex",
   "metadata": {},
   "outputs": [
    {
     "data": {
      "text/plain": [
       "2098.4711"
      ]
     },
     "execution_count": 159,
     "metadata": {},
     "output_type": "execute_result"
    }
   ],
   "source": [
    "compute_molecular_weight(\"MTNIRKTHPLAKIINNSF\")"
   ]
  },
  {
   "cell_type": "markdown",
   "id": "former-quick",
   "metadata": {},
   "source": [
    "##### 5. Computing the GC-content of each DNA sequence"
   ]
  },
  {
   "cell_type": "code",
   "execution_count": 160,
   "id": "indian-portal",
   "metadata": {},
   "outputs": [],
   "source": [
    "from Bio.SeqUtils import GC # importing the function for GC-content from SeqUtils\n",
    "\n",
    "def gc_content_function(nucleotides):\n",
    "    gc_content = GC(nucleotides) # calculating the GC content\n",
    "    return(gc_content) "
   ]
  },
  {
   "cell_type": "code",
   "execution_count": 161,
   "id": "damaged-translator",
   "metadata": {},
   "outputs": [
    {
     "data": {
      "text/plain": [
       "35.18518518518518"
      ]
     },
     "execution_count": 161,
     "metadata": {},
     "output_type": "execute_result"
    }
   ],
   "source": [
    "gc_content_function(\"ATGACCAACATCCGAAAAACCCATCCATTAGCTAAAATCATCAACAACTCATTT\")"
   ]
  },
  {
   "cell_type": "code",
   "execution_count": 162,
   "id": "separate-bulletin",
   "metadata": {
    "scrolled": true
   },
   "outputs": [],
   "source": [
    "cytb_seqs = get_sequences_from_file(\"bears_cytb.fasta\") \n",
    "bears_df1 = pd.read_csv(\"bears_mass.csv\") # Using only body mass and loading the csv file as a dataframe\n",
    "species_list = list(bears_df1.species) #making a list of species names)"
   ]
  },
  {
   "cell_type": "code",
   "execution_count": 163,
   "id": "micro-desert",
   "metadata": {},
   "outputs": [
    {
     "data": {
      "text/plain": [
       "{'Ursus spelaeus': Seq('ATGACCAACATCCGAAAAACCCATCCATTAGCTAAAATCATCAACAACTCATTT...AGA'),\n",
       " 'Ursus arctos': Seq('ATGACCAACATCCGAAAAACCCACCCATTAGCTAAAATCATCAACAACTCACTT...AGA'),\n",
       " 'Ursus thibetanus': Seq('ATGACCAACATCCGAAAAACCCATCCATTAGCCAAAATCATCAACAACTCACTC...AGA'),\n",
       " 'Melursus ursinus': Seq('ATGACCAACATCCGAAAAACCCACCCATTAGCTAAAATCATTAACAACTCACTC...AGA'),\n",
       " 'Ursus americanus': Seq('ATGACCAACATCCGAAAAACCCACCCATTAGCTAAAATCATCAACAACTCACTT...AGA'),\n",
       " 'Helarctos malayanus': Seq('ATGACCAACATCCGAAAAACCCACCCATTAGCTAAAATCATTAACAACTCACTT...AGA'),\n",
       " 'Ailuropoda melanoleuca': Seq('ATGATCAACATCCGAAAAACTCATCCATTAGTTAAAATTATCAACAACTCATTC...AGA'),\n",
       " 'Tremarctos ornatus': Seq('ATGACCAACATCCGAAAAACTCACCCACTAGCTAAAATCATCAACAGCTCATTC...AGA'),\n",
       " 'Ursus maritimus': Seq('ATGACCAACATCCGAAAAACCCACCCATTAGCTAAAATCATCAACAACTCATTT...AGA')}"
      ]
     },
     "execution_count": 163,
     "metadata": {},
     "output_type": "execute_result"
    }
   ],
   "source": [
    "cytb_seqs"
   ]
  },
  {
   "cell_type": "markdown",
   "id": "running-orleans",
   "metadata": {},
   "source": [
    "##### 6. Adding two new columns to the DataFrame: (1) molecular weight and (2) GC content."
   ]
  },
  {
   "cell_type": "code",
   "execution_count": 164,
   "id": "sound-booth",
   "metadata": {},
   "outputs": [],
   "source": [
    "bears_df1['molecular_weight'] = float(\"NaN\")\n",
    "bears_df1['gc_content'] = float(\"NaN\")"
   ]
  },
  {
   "cell_type": "markdown",
   "id": "surprised-equipment",
   "metadata": {},
   "source": [
    "##### 7. Using functions from step 3 , 4 and 5 and fill in the new columns in the DataFrame."
   ]
  },
  {
   "cell_type": "code",
   "execution_count": 165,
   "id": "olympic-permission",
   "metadata": {},
   "outputs": [],
   "source": [
    "for key in cytb_seqs: #iterate throught the key in the dictionary\n",
    "    DNA_seq = str(cytb_seqs[key]) # importing sequence data in the dictionary according to the key and saving them as string\n",
    "    aa_seq = translate_CDS_function(DNA_seq) #calling a translate function to get aa seq\n",
    "    bears_df1.loc[bears_df1.species == key,'molecular_weight'] = compute_molecular_weight(aa_seq) #saveing the molecular weight of each species in a new column\n",
    "    bears_df1.loc[bears_df1.species == key,'gc_content'] = gc_content_function(DNA_seq) #saves the GC content of each species in a new column"
   ]
  },
  {
   "cell_type": "code",
   "execution_count": 166,
   "id": "desirable-logistics",
   "metadata": {},
   "outputs": [
    {
     "data": {
      "text/html": [
       "<div>\n",
       "<style scoped>\n",
       "    .dataframe tbody tr th:only-of-type {\n",
       "        vertical-align: middle;\n",
       "    }\n",
       "\n",
       "    .dataframe tbody tr th {\n",
       "        vertical-align: top;\n",
       "    }\n",
       "\n",
       "    .dataframe thead th {\n",
       "        text-align: right;\n",
       "    }\n",
       "</style>\n",
       "<table border=\"1\" class=\"dataframe\">\n",
       "  <thead>\n",
       "    <tr style=\"text-align: right;\">\n",
       "      <th></th>\n",
       "      <th>species</th>\n",
       "      <th>mass</th>\n",
       "      <th>molecular_weight</th>\n",
       "      <th>gc_content</th>\n",
       "    </tr>\n",
       "  </thead>\n",
       "  <tbody>\n",
       "    <tr>\n",
       "      <th>0</th>\n",
       "      <td>Ursus spelaeus</td>\n",
       "      <td>550.800</td>\n",
       "      <td>42458.7992</td>\n",
       "      <td>43.771930</td>\n",
       "    </tr>\n",
       "    <tr>\n",
       "      <th>1</th>\n",
       "      <td>Ursus arctos</td>\n",
       "      <td>203.500</td>\n",
       "      <td>42414.7435</td>\n",
       "      <td>43.771930</td>\n",
       "    </tr>\n",
       "    <tr>\n",
       "      <th>2</th>\n",
       "      <td>Ursus thibetanus</td>\n",
       "      <td>99.714</td>\n",
       "      <td>42306.6735</td>\n",
       "      <td>45.614035</td>\n",
       "    </tr>\n",
       "    <tr>\n",
       "      <th>3</th>\n",
       "      <td>Melursus ursinus</td>\n",
       "      <td>100.030</td>\n",
       "      <td>42551.9900</td>\n",
       "      <td>45.175439</td>\n",
       "    </tr>\n",
       "    <tr>\n",
       "      <th>4</th>\n",
       "      <td>Ursus americanus</td>\n",
       "      <td>110.560</td>\n",
       "      <td>42427.7439</td>\n",
       "      <td>43.947368</td>\n",
       "    </tr>\n",
       "    <tr>\n",
       "      <th>5</th>\n",
       "      <td>Helarctos malayanus</td>\n",
       "      <td>47.020</td>\n",
       "      <td>42560.8910</td>\n",
       "      <td>44.298246</td>\n",
       "    </tr>\n",
       "    <tr>\n",
       "      <th>6</th>\n",
       "      <td>Ailuropoda melanoleuca</td>\n",
       "      <td>118.200</td>\n",
       "      <td>42702.1845</td>\n",
       "      <td>40.789474</td>\n",
       "    </tr>\n",
       "    <tr>\n",
       "      <th>7</th>\n",
       "      <td>Tremarctos ornatus</td>\n",
       "      <td>140.700</td>\n",
       "      <td>42384.8266</td>\n",
       "      <td>44.385965</td>\n",
       "    </tr>\n",
       "    <tr>\n",
       "      <th>8</th>\n",
       "      <td>Ursus maritimus</td>\n",
       "      <td>425.100</td>\n",
       "      <td>42454.7873</td>\n",
       "      <td>44.298246</td>\n",
       "    </tr>\n",
       "  </tbody>\n",
       "</table>\n",
       "</div>"
      ],
      "text/plain": [
       "                  species     mass  molecular_weight  gc_content\n",
       "0          Ursus spelaeus  550.800        42458.7992   43.771930\n",
       "1            Ursus arctos  203.500        42414.7435   43.771930\n",
       "2        Ursus thibetanus   99.714        42306.6735   45.614035\n",
       "3        Melursus ursinus  100.030        42551.9900   45.175439\n",
       "4        Ursus americanus  110.560        42427.7439   43.947368\n",
       "5     Helarctos malayanus   47.020        42560.8910   44.298246\n",
       "6  Ailuropoda melanoleuca  118.200        42702.1845   40.789474\n",
       "7      Tremarctos ornatus  140.700        42384.8266   44.385965\n",
       "8         Ursus maritimus  425.100        42454.7873   44.298246"
      ]
     },
     "execution_count": 166,
     "metadata": {},
     "output_type": "execute_result"
    }
   ],
   "source": [
    "bears_df1"
   ]
  },
  {
   "cell_type": "markdown",
   "id": "prompt-firewall",
   "metadata": {},
   "source": [
    "##### 8.  Plot a bar-chart of the mass with the x-axes labeled with species names."
   ]
  },
  {
   "cell_type": "code",
   "execution_count": 167,
   "id": "disabled-fabric",
   "metadata": {},
   "outputs": [],
   "source": [
    "import matplotlib.pyplot as plt\n",
    "import seaborn as sns\n",
    "import numpy as np"
   ]
  },
  {
   "cell_type": "code",
   "execution_count": 168,
   "id": "honey-diploma",
   "metadata": {},
   "outputs": [],
   "source": [
    "%matplotlib inline"
   ]
  },
  {
   "cell_type": "code",
   "execution_count": 212,
   "id": "willing-wells",
   "metadata": {},
   "outputs": [],
   "source": [
    "plot_dims = (20, 12) #defining dimensions of the graph"
   ]
  },
  {
   "cell_type": "code",
   "execution_count": 209,
   "id": "heard-muscle",
   "metadata": {},
   "outputs": [
    {
     "data": {
      "text/plain": [
       "[Text(0.5, 0, 'species_names'), Text(0, 0.5, 'mass')]"
      ]
     },
     "execution_count": 209,
     "metadata": {},
     "output_type": "execute_result"
    },
    {
     "data": {
      "image/png": "[encoded data removed]",
      "text/plain": [
       "<Figure size 1008x648 with 1 Axes>"
      ]
     },
     "metadata": {},
     "output_type": "display_data"
    }
   ],
   "source": [
    "fig, ax = plt.subplots(figsize = plot_dims)  # using the defined dimensins of the graph\n",
    "sns.barplot(x='species', y='mass', color ='c', data = bears_df1)  # creating a bar chart of species vs mass\n",
    "ax.set(xlabel = 'species_names', ylabel = 'mass') # setting the axes labels\n"
   ]
  },
  {
   "cell_type": "markdown",
   "id": "alternate-profile",
   "metadata": {},
   "source": [
    "1)Ursus spelaeus is the largest species.\n",
    "2) Ursus spelaeus or cave bear can be weighed upto 1000kg and they are now extinct. They were also vegetarians"
   ]
  },
  {
   "cell_type": "markdown",
   "id": "bulgarian-paris",
   "metadata": {},
   "source": [
    "##### 9. Plot a visualization of the molecular weight (y-axis) as a function of GC-content (x-axis)."
   ]
  },
  {
   "cell_type": "code",
   "execution_count": 227,
   "id": "social-halifax",
   "metadata": {},
   "outputs": [
    {
     "data": {
      "text/plain": [
       "<seaborn.axisgrid.FacetGrid at 0x7fab53d15fa0>"
      ]
     },
     "execution_count": 227,
     "metadata": {},
     "output_type": "execute_result"
    },
    {
     "data": {
      "image/png": "[encoded data removed]",
      "text/plain": [
       "<Figure size 629.625x432 with 1 Axes>"
      ]
     },
     "metadata": {},
     "output_type": "display_data"
    }
   ],
   "source": [
    "sns.lmplot(x=\"gc_content\", y=\"molecular_weight\", data=bears_df1, \n",
    "           fit_reg=False, height=6, aspect=1, scatter_kws={'alpha':0.5,\"s\": 50}, \n",
    "           hue='species', markers='.') # Making a scatter plot and setting the dimensions, color,etc."
   ]
  },
  {
   "cell_type": "markdown",
   "id": "novel-infrared",
   "metadata": {},
   "source": [
    "##### 10. Saving the new DataFrame to a file called \"bears_mass_cytb.csv\""
   ]
  },
  {
   "cell_type": "code",
   "execution_count": 228,
   "id": "excessive-montgomery",
   "metadata": {},
   "outputs": [],
   "source": [
    "bears_df1.to_csv(\"bears_mass_cytb.csv\", index = False)"
   ]
  },
  {
   "cell_type": "markdown",
   "id": "ancient-bible",
   "metadata": {},
   "source": [
    "##### 11. Bonus\n",
    "This data set can be visualized in other ways:\n",
    "a. The body mass distribution can be visualized as a histogram which shows that 2 of 9 are the same size. The colour can also be changed"
   ]
  },
  {
   "cell_type": "code",
   "execution_count": 233,
   "id": "decimal-radiation",
   "metadata": {},
   "outputs": [
    {
     "data": {
      "text/plain": [
       "<seaborn.axisgrid.FacetGrid at 0x7fab55ac0070>"
      ]
     },
     "execution_count": 233,
     "metadata": {},
     "output_type": "execute_result"
    },
    {
     "data": {
      "image/png": "[encoded data removed]",
      "text/plain": [
       "<Figure size 864x576 with 1 Axes>"
      ]
     },
     "metadata": {},
     "output_type": "display_data"
    }
   ],
   "source": [
    "sns.displot(bears_df1['mass'], color='k',bins=50, height=8, aspect=1.5,)"
   ]
  },
  {
   "cell_type": "markdown",
   "id": "wooden-champagne",
   "metadata": {},
   "source": [
    "The AA sequence can be added to the data frame and each AA can be computed to see how many times it appears for understanding the function of the protein.\n"
   ]
  },
  {
   "cell_type": "code",
   "execution_count": 234,
   "id": "whole-excerpt",
   "metadata": {},
   "outputs": [],
   "source": [
    "bears_df1_copy = bears_df1"
   ]
  },
  {
   "cell_type": "code",
   "execution_count": 287,
   "id": "documentary-footage",
   "metadata": {},
   "outputs": [],
   "source": [
    "for key in cytb_seqs: \n",
    "    DNA_seq = str(cytb_seqs[key])\n",
    "    aa_seq = translate_CDS_function(DNA_seq)\n",
    "    bears_df1.loc[bears_df1_copy.species == key,'aa_seq'] = (aa_seq) #saving the aa sequence in a new column\n",
    "    "
   ]
  },
  {
   "cell_type": "code",
   "execution_count": 239,
   "id": "ordered-bulletin",
   "metadata": {},
   "outputs": [
    {
     "data": {
      "text/html": [
       "<div>\n",
       "<style scoped>\n",
       "    .dataframe tbody tr th:only-of-type {\n",
       "        vertical-align: middle;\n",
       "    }\n",
       "\n",
       "    .dataframe tbody tr th {\n",
       "        vertical-align: top;\n",
       "    }\n",
       "\n",
       "    .dataframe thead th {\n",
       "        text-align: right;\n",
       "    }\n",
       "</style>\n",
       "<table border=\"1\" class=\"dataframe\">\n",
       "  <thead>\n",
       "    <tr style=\"text-align: right;\">\n",
       "      <th></th>\n",
       "      <th>species</th>\n",
       "      <th>mass</th>\n",
       "      <th>molecular_weight</th>\n",
       "      <th>gc_content</th>\n",
       "      <th>aa_seq</th>\n",
       "    </tr>\n",
       "  </thead>\n",
       "  <tbody>\n",
       "    <tr>\n",
       "      <th>0</th>\n",
       "      <td>Ursus spelaeus</td>\n",
       "      <td>550.800</td>\n",
       "      <td>42458.7992</td>\n",
       "      <td>43.771930</td>\n",
       "      <td>MTNIRKTHPLAKIINNSFIDLPTPSNISAWWNFGSLLGVCLILQIL...</td>\n",
       "    </tr>\n",
       "    <tr>\n",
       "      <th>1</th>\n",
       "      <td>Ursus arctos</td>\n",
       "      <td>203.500</td>\n",
       "      <td>42414.7435</td>\n",
       "      <td>43.771930</td>\n",
       "      <td>MTNIRKTHPLAKIINNSLIDLPTPSNISAWWNFGSLLGVCLILQIL...</td>\n",
       "    </tr>\n",
       "    <tr>\n",
       "      <th>2</th>\n",
       "      <td>Ursus thibetanus</td>\n",
       "      <td>99.714</td>\n",
       "      <td>42306.6735</td>\n",
       "      <td>45.614035</td>\n",
       "      <td>MTNIRKTHPLAKIINNSLIDLPAPSNISAWWNFGSLLGMCLILQIL...</td>\n",
       "    </tr>\n",
       "    <tr>\n",
       "      <th>3</th>\n",
       "      <td>Melursus ursinus</td>\n",
       "      <td>100.030</td>\n",
       "      <td>42551.9900</td>\n",
       "      <td>45.175439</td>\n",
       "      <td>MTNIRKTHPLAKIINNSLIDLPAPSNISAWWNFGSLLGVCLILQIL...</td>\n",
       "    </tr>\n",
       "    <tr>\n",
       "      <th>4</th>\n",
       "      <td>Ursus americanus</td>\n",
       "      <td>110.560</td>\n",
       "      <td>42427.7439</td>\n",
       "      <td>43.947368</td>\n",
       "      <td>MTNIRKTHPLAKIINNSLIDLPTPSNISAWWNFGSLLGVCLVLQIL...</td>\n",
       "    </tr>\n",
       "    <tr>\n",
       "      <th>5</th>\n",
       "      <td>Helarctos malayanus</td>\n",
       "      <td>47.020</td>\n",
       "      <td>42560.8910</td>\n",
       "      <td>44.298246</td>\n",
       "      <td>MTNIRKTHPLAKIINNSLIDLPAPSNISAWWNFGSLLGVCLILQIM...</td>\n",
       "    </tr>\n",
       "    <tr>\n",
       "      <th>6</th>\n",
       "      <td>Ailuropoda melanoleuca</td>\n",
       "      <td>118.200</td>\n",
       "      <td>42702.1845</td>\n",
       "      <td>40.789474</td>\n",
       "      <td>MINIRKTHPLVKIINNSFIDLPTPSNISTWWNFGSLLGVCLILQIL...</td>\n",
       "    </tr>\n",
       "    <tr>\n",
       "      <th>7</th>\n",
       "      <td>Tremarctos ornatus</td>\n",
       "      <td>140.700</td>\n",
       "      <td>42384.8266</td>\n",
       "      <td>44.385965</td>\n",
       "      <td>MTNIRKTHPLAKIINSSFIDLPTPSNISAWWNFGSLLGVCLILHIL...</td>\n",
       "    </tr>\n",
       "    <tr>\n",
       "      <th>8</th>\n",
       "      <td>Ursus maritimus</td>\n",
       "      <td>425.100</td>\n",
       "      <td>42454.7873</td>\n",
       "      <td>44.298246</td>\n",
       "      <td>MTNIRKTHPLAKIINNSFIDLPTPSNISAWWNFGSLLGVCLILQIL...</td>\n",
       "    </tr>\n",
       "  </tbody>\n",
       "</table>\n",
       "</div>"
      ],
      "text/plain": [
       "                  species     mass  molecular_weight  gc_content  \\\n",
       "0          Ursus spelaeus  550.800        42458.7992   43.771930   \n",
       "1            Ursus arctos  203.500        42414.7435   43.771930   \n",
       "2        Ursus thibetanus   99.714        42306.6735   45.614035   \n",
       "3        Melursus ursinus  100.030        42551.9900   45.175439   \n",
       "4        Ursus americanus  110.560        42427.7439   43.947368   \n",
       "5     Helarctos malayanus   47.020        42560.8910   44.298246   \n",
       "6  Ailuropoda melanoleuca  118.200        42702.1845   40.789474   \n",
       "7      Tremarctos ornatus  140.700        42384.8266   44.385965   \n",
       "8         Ursus maritimus  425.100        42454.7873   44.298246   \n",
       "\n",
       "                                              aa_seq  \n",
       "0  MTNIRKTHPLAKIINNSFIDLPTPSNISAWWNFGSLLGVCLILQIL...  \n",
       "1  MTNIRKTHPLAKIINNSLIDLPTPSNISAWWNFGSLLGVCLILQIL...  \n",
       "2  MTNIRKTHPLAKIINNSLIDLPAPSNISAWWNFGSLLGMCLILQIL...  \n",
       "3  MTNIRKTHPLAKIINNSLIDLPAPSNISAWWNFGSLLGVCLILQIL...  \n",
       "4  MTNIRKTHPLAKIINNSLIDLPTPSNISAWWNFGSLLGVCLVLQIL...  \n",
       "5  MTNIRKTHPLAKIINNSLIDLPAPSNISAWWNFGSLLGVCLILQIM...  \n",
       "6  MINIRKTHPLVKIINNSFIDLPTPSNISTWWNFGSLLGVCLILQIL...  \n",
       "7  MTNIRKTHPLAKIINSSFIDLPTPSNISAWWNFGSLLGVCLILHIL...  \n",
       "8  MTNIRKTHPLAKIINNSFIDLPTPSNISAWWNFGSLLGVCLILQIL...  "
      ]
     },
     "execution_count": 239,
     "metadata": {},
     "output_type": "execute_result"
    }
   ],
   "source": [
    "bears_df1_copy"
   ]
  },
  {
   "cell_type": "code",
   "execution_count": 285,
   "id": "hispanic-ottawa",
   "metadata": {},
   "outputs": [
    {
     "data": {
      "text/plain": [
       "23"
      ]
     },
     "execution_count": 285,
     "metadata": {},
     "output_type": "execute_result"
    }
   ],
   "source": [
    "aa_seq.count('P')"
   ]
  },
  {
   "cell_type": "code",
   "execution_count": 286,
   "id": "opposed-council",
   "metadata": {},
   "outputs": [
    {
     "data": {
      "text/plain": [
       "10"
      ]
     },
     "execution_count": 286,
     "metadata": {},
     "output_type": "execute_result"
    }
   ],
   "source": [
    "aa_seq.count('M')"
   ]
  },
  {
   "cell_type": "code",
   "execution_count": null,
   "id": "actual-tongue",
   "metadata": {},
   "outputs": [],
   "source": []
  }
 ],
 "metadata": {
  "kernelspec": {
   "display_name": "Python 3",
   "language": "python",
   "name": "python3"
  },
  "language_info": {
   "codemirror_mode": {
    "name": "ipython",
    "version": 3
   },
   "file_extension": ".py",
   "mimetype": "text/x-python",
   "name": "python",
   "nbconvert_exporter": "python",
   "pygments_lexer": "ipython3",
   "version": "3.8.8"
  }
 },
 "nbformat": 4,
 "nbformat_minor": 5
}
